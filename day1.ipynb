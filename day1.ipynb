{
 "cells": [
  {
   "cell_type": "markdown",
   "metadata": {
    "collapsed": true
   },
   "source": [
    "# Day 1: Python basics, text processing\n",
    "\n",
    "Na-Rae Han (`naraehan@pitt.edu`) and David J. Birnbaum (`djbpitt@pitt.edu`) \n",
    "\n",
    "June 25-29, [NASSLLI 2018 at CMU](https://www.cmu.edu/nasslli2018/) \n",
    "\n",
    "This tutorial is found on https://github.com/naraehan/NASSLLI2018-Corpus-Linguistics. \n",
    "- Jump to: [Day 1](day1.ipynb), [Day 2](day2.ipynb), [Day 3](day3.ipynb), [Day 4](day4.ipynb), [Day 5](day5.ipynb)"
   ]
  },
  {
   "cell_type": "markdown",
   "metadata": {},
   "source": [
    "## Getting around in Jupyter Notebook\n",
    "- When you launch Jupyter Notebook, you \"start\" in your personal directory. \n",
    "- Move into \"Desktop\". Create a new folder there and rename it \"corpusling\", and then move into it. You should store all your Notebook files in here. \n",
    "- Create a new Python3 notebook file, give it a name. \n",
    "\n",
    "\n",
    "- Click `+` to create a new cell, ► to run (Also: `Ctrl+ENTER`)\n",
    "- `Alt+ENTER` to run cell, create a new cell below\n",
    "- `Shift+ENTER` to run cell, go to next cell\n",
    "- More on [this page](https://www.cheatography.com/weidadeyue/cheat-sheets/jupyter-notebook/)"
   ]
  },
  {
   "cell_type": "markdown",
   "metadata": {},
   "source": [
    "## The very basics\n",
    "\n",
    "### First code\n",
    "\n",
    "* Printing a string, using `print()`. "
   ]
  },
  {
   "cell_type": "code",
   "execution_count": 1,
   "metadata": {},
   "outputs": [
    {
     "name": "stdout",
     "output_type": "stream",
     "text": [
      "hello, world!\n"
     ]
    }
   ],
   "source": [
    "print(\"hello, world!\")"
   ]
  },
  {
   "cell_type": "markdown",
   "metadata": {
    "collapsed": true
   },
   "source": [
    "### Strings\n",
    "\n",
    "* String type objects are enclosed in quotation marks (\" or ').\n",
    "* \\+ is a concatenation operator.\n",
    "* Below, `greet` is a variable name assigned to a string value. \n",
    "* Here we are not explicitly printing out; instead, a string value is *returned*. "
   ]
  },
  {
   "cell_type": "code",
   "execution_count": 2,
   "metadata": {
    "scrolled": true
   },
   "outputs": [
    {
     "data": {
      "text/plain": [
       "\"Hello, world! I come in peace. I'm called merklar.\""
      ]
     },
     "execution_count": 2,
     "metadata": {},
     "output_type": "execute_result"
    }
   ],
   "source": [
    "greet = \"Hello, world!\"\n",
    "greet = greet + \" I come in peace.\" + \" I'm called merklar.\"\n",
    "greet"
   ]
  },
  {
   "cell_type": "markdown",
   "metadata": {},
   "source": [
    "* String methods such as `.upper()`, `.lower()` transform a string. \n",
    "* Rather than changing the original variable, the commands *return* a *new* string value. "
   ]
  },
  {
   "cell_type": "code",
   "execution_count": 3,
   "metadata": {
    "scrolled": true
   },
   "outputs": [
    {
     "data": {
      "text/plain": [
       "\"hello, world! i come in peace. i'm called merklar.\""
      ]
     },
     "execution_count": 3,
     "metadata": {},
     "output_type": "execute_result"
    }
   ],
   "source": [
    "greet2 = greet.upper().lower() \n",
    "greet2"
   ]
  },
  {
   "cell_type": "markdown",
   "metadata": {},
   "source": [
    "* Some string methods return a boolean value (True/False) "
   ]
  },
  {
   "cell_type": "code",
   "execution_count": 4,
   "metadata": {},
   "outputs": [
    {
     "data": {
      "text/plain": [
       "True"
      ]
     },
     "execution_count": 4,
     "metadata": {},
     "output_type": "execute_result"
    }
   ],
   "source": [
    "# try .isupper(), .isalnum(), .startswith('he')\n",
    "'hello123'.isalnum()"
   ]
  },
  {
   "cell_type": "markdown",
   "metadata": {},
   "source": [
    "* `len()` returns the length of a string in the # of characters. "
   ]
  },
  {
   "cell_type": "code",
   "execution_count": 5,
   "metadata": {},
   "outputs": [
    {
     "data": {
      "text/plain": [
       "50"
      ]
     },
     "execution_count": 5,
     "metadata": {},
     "output_type": "execute_result"
    }
   ],
   "source": [
    "len(greet)"
   ]
  },
  {
   "cell_type": "markdown",
   "metadata": {},
   "source": [
    "* `in` tests substring-hood between two strings. "
   ]
  },
  {
   "cell_type": "code",
   "execution_count": 6,
   "metadata": {},
   "outputs": [
    {
     "data": {
      "text/plain": [
       "True"
      ]
     },
     "execution_count": 6,
     "metadata": {},
     "output_type": "execute_result"
    }
   ],
   "source": [
    "'he' not in 'hello' or ''.endswith('')"
   ]
  },
  {
   "cell_type": "markdown",
   "metadata": {},
   "source": [
    "### Numbers\n",
    "\n",
    "* Integers and floats are written without quotes. \n",
    "* You can use algebraic operations such as `+`, `-`, `*` and `/` with numbers. "
   ]
  },
  {
   "cell_type": "code",
   "execution_count": 7,
   "metadata": {},
   "outputs": [
    {
     "name": "stdout",
     "output_type": "stream",
     "text": [
      "5678 divided by 3.141592 is 1807.3639097629482\n"
     ]
    }
   ],
   "source": [
    "num1 = 5678\n",
    "num2 = 3.141592\n",
    "result = num1 / num2\n",
    "print(num1, \"divided by\", num2, \"is\", result)  # can print multiple things! "
   ]
  },
  {
   "cell_type": "markdown",
   "metadata": {},
   "source": [
    "### Lists\n",
    "* Lists are enclosed in `[ ]`, with elements separated with commas. Lists can contain strings, numbers, and more. \n",
    "* As with string, you can use `len()` to get the size of a list. \n",
    "* As with string, you can use `in` to see whether an element is in a list. "
   ]
  },
  {
   "cell_type": "code",
   "execution_count": 8,
   "metadata": {},
   "outputs": [
    {
     "data": {
      "text/plain": [
       "6"
      ]
     },
     "execution_count": 8,
     "metadata": {},
     "output_type": "execute_result"
    }
   ],
   "source": [
    "li = ['red', 'blue', 'green', 'black', 'white', 'pink']\n",
    "len(li)"
   ]
  },
  {
   "cell_type": "code",
   "execution_count": 9,
   "metadata": {},
   "outputs": [
    {
     "name": "stdout",
     "output_type": "stream",
     "text": [
      "['red', 'blue', 'green', 'black', 'white', 'pink', 'mauve']\n"
     ]
    }
   ],
   "source": [
    "# Try logical operators not, and, or\n",
    "'mauve' in li and 'teal' in li\n",
    "li.append('mauve')\n",
    "print(li)"
   ]
  },
  {
   "cell_type": "markdown",
   "metadata": {},
   "source": [
    "* A list can be indexed through `li[i]`. Python indexes starts with 0. \n",
    "* A list can be sliced: `li[3:5]` returns a sub-list beginning with index 3 up to and not including index 5. "
   ]
  },
  {
   "cell_type": "code",
   "execution_count": 10,
   "metadata": {},
   "outputs": [
    {
     "data": {
      "text/plain": [
       "'green'"
      ]
     },
     "execution_count": 10,
     "metadata": {},
     "output_type": "execute_result"
    }
   ],
   "source": [
    "# Try [0], [2], [-1], [3:5], [3:], [:5]\n",
    "li[2]"
   ]
  },
  {
   "cell_type": "markdown",
   "metadata": {},
   "source": [
    "### `for` loop\n",
    "* Using a `for` loop, you can loop through a list of items, applying the same set of operations to each element. \n",
    "* The embedded code block is marked with indentation. "
   ]
  },
  {
   "cell_type": "code",
   "execution_count": 11,
   "metadata": {},
   "outputs": [
    {
     "name": "stdout",
     "output_type": "stream",
     "text": [
      "\"Red\" is 3 characters long.\n",
      "--\n",
      "\"Blue\" is 4 characters long.\n",
      "--\n",
      "\"Green\" is 5 characters long.\n",
      "--\n",
      "\"Black\" is 5 characters long.\n",
      "--\n",
      "\"White\" is 5 characters long.\n",
      "--\n",
      "\"Pink\" is 4 characters long.\n",
      "--\n",
      "\"Mauve\" is 5 characters long.\n",
      "--\n",
      "Done!\n"
     ]
    }
   ],
   "source": [
    "for x in li :\n",
    "    print('\"'+x.capitalize()+'\" is', len(x), \"characters long.\")\n",
    "    print('--')\n",
    "print(\"Done!\")"
   ]
  },
  {
   "cell_type": "markdown",
   "metadata": {},
   "source": [
    "### List comprehension\n",
    "* List comprehension builds a new list from an existing list. \n",
    "* You can filter to include only certain elements, and you can apply transformationa in the process.\n",
    "* Try: `.upper()`, `len()`, `+'ish'`"
   ]
  },
  {
   "cell_type": "code",
   "execution_count": 12,
   "metadata": {},
   "outputs": [
    {
     "data": {
      "text/plain": [
       "['blue', 'pink']"
      ]
     },
     "execution_count": 12,
     "metadata": {},
     "output_type": "execute_result"
    }
   ],
   "source": [
    "# filter\n",
    "[x for x in li if len(x)==4]"
   ]
  },
  {
   "cell_type": "code",
   "execution_count": 13,
   "metadata": {},
   "outputs": [
    {
     "data": {
      "text/plain": [
       "['RED', 'BLUE', 'GREEN', 'BLACK', 'WHITE', 'PINK', 'MAUVE']"
      ]
     },
     "execution_count": 13,
     "metadata": {},
     "output_type": "execute_result"
    }
   ],
   "source": [
    "# transform\n",
    "[x.upper() for x in li]"
   ]
  },
  {
   "cell_type": "code",
   "execution_count": 14,
   "metadata": {},
   "outputs": [
    {
     "data": {
      "text/plain": [
       "['GREEN', 'BLACK', 'WHITE', 'MAUVE']"
      ]
     },
     "execution_count": 14,
     "metadata": {},
     "output_type": "execute_result"
    }
   ],
   "source": [
    "# filter and transform\n",
    "[x.upper() for x in li if len(x)>=5]"
   ]
  },
  {
   "cell_type": "markdown",
   "metadata": {},
   "source": [
    "### Dictionaries\n",
    "- Dictionaries hold **key:value** mappings. \n",
    "- `len()` on dictionary returns the number of keys. \n",
    "- Looping over a dictionary means looping over its keys. "
   ]
  },
  {
   "cell_type": "code",
   "execution_count": 15,
   "metadata": {},
   "outputs": [
    {
     "data": {
      "text/plain": [
       "8"
      ]
     },
     "execution_count": 15,
     "metadata": {},
     "output_type": "execute_result"
    }
   ],
   "source": [
    "di = {'Homer':35, 'Marge':35, 'Bart':10, 'Lisa':8}\n",
    "di['Lisa']"
   ]
  },
  {
   "cell_type": "code",
   "execution_count": 16,
   "metadata": {},
   "outputs": [
    {
     "data": {
      "text/plain": [
       "['Lisa', 'Bart']"
      ]
     },
     "execution_count": 16,
     "metadata": {},
     "output_type": "execute_result"
    }
   ],
   "source": [
    "# 20 years-old or younger. x is bound to keys. \n",
    "[x for x in di if di[x] <= 20]"
   ]
  },
  {
   "cell_type": "code",
   "execution_count": 17,
   "metadata": {},
   "outputs": [
    {
     "data": {
      "text/plain": [
       "4"
      ]
     },
     "execution_count": 17,
     "metadata": {},
     "output_type": "execute_result"
    }
   ],
   "source": [
    "len(di)"
   ]
  },
  {
   "cell_type": "markdown",
   "metadata": {},
   "source": [
    "### Processing a piece of text\n",
    "- [Visit this page](http://www.pitt.edu/~naraehan/python3/text-samples.txt) and copy-paste the first passage of Moby Dick.  \n",
    "- `\"\"\"` triple quotes have the special power of straddling across line breaks. \n"
   ]
  },
  {
   "cell_type": "code",
   "execution_count": 18,
   "metadata": {
    "collapsed": true
   },
   "outputs": [],
   "source": [
    "moby = \"\"\"Call me Ishmael...\"\"\""
   ]
  },
  {
   "cell_type": "code",
   "execution_count": 19,
   "metadata": {},
   "outputs": [
    {
     "data": {
      "text/plain": [
       "'Call me Ishmael...'"
      ]
     },
     "execution_count": 19,
     "metadata": {},
     "output_type": "execute_result"
    }
   ],
   "source": [
    "# What is '\\n'? \n",
    "moby"
   ]
  },
  {
   "cell_type": "code",
   "execution_count": 20,
   "metadata": {},
   "outputs": [
    {
     "name": "stdout",
     "output_type": "stream",
     "text": [
      "Call me Ishmael...\n"
     ]
    }
   ],
   "source": [
    "print(moby)"
   ]
  },
  {
   "cell_type": "code",
   "execution_count": 21,
   "metadata": {},
   "outputs": [
    {
     "data": {
      "text/plain": [
       "18"
      ]
     },
     "execution_count": 21,
     "metadata": {},
     "output_type": "execute_result"
    }
   ],
   "source": [
    "len(moby)\n",
    "# But how many _words_?"
   ]
  },
  {
   "cell_type": "code",
   "execution_count": 22,
   "metadata": {},
   "outputs": [
    {
     "name": "stdout",
     "output_type": "stream",
     "text": [
      "Pretty printing has been turned OFF\n"
     ]
    },
    {
     "data": {
      "text/plain": [
       "['Call', 'me', 'Ishmael...']"
      ]
     },
     "execution_count": 22,
     "metadata": {},
     "output_type": "execute_result"
    }
   ],
   "source": [
    "# .split() is a \"poor-man's tokenizer\". What problem do you see? \n",
    "%pprint\n",
    "moby.split()"
   ]
  },
  {
   "cell_type": "markdown",
   "metadata": {},
   "source": [
    "### Using regular expressions for tokenization\n",
    "* `re` is Python's regular expression module. Start by importing. \n",
    "* `re.findall` finds all substrings that match a pattern.\n",
    "* For regular expression strings, use `r'...'` (rawstring) prefix. "
   ]
  },
  {
   "cell_type": "code",
   "execution_count": 23,
   "metadata": {
    "collapsed": true
   },
   "outputs": [],
   "source": [
    "import re"
   ]
  },
  {
   "cell_type": "code",
   "execution_count": 24,
   "metadata": {},
   "outputs": [
    {
     "data": {
      "text/plain": [
       "['You', 'haven', 't', 'seen', 'Star', 'Wars']"
      ]
     },
     "execution_count": 24,
     "metadata": {},
     "output_type": "execute_result"
    }
   ],
   "source": [
    "sent = \"You haven't seen Star Wars...?\"\n",
    "re.findall(r'\\w+', sent)"
   ]
  },
  {
   "cell_type": "code",
   "execution_count": 25,
   "metadata": {},
   "outputs": [
    {
     "data": {
      "text/plain": [
       "['Call', 'me', 'Ishmael']"
      ]
     },
     "execution_count": 25,
     "metadata": {},
     "output_type": "execute_result"
    }
   ],
   "source": [
    "re.findall(r'\\w+', moby)"
   ]
  },
  {
   "cell_type": "code",
   "execution_count": 26,
   "metadata": {
    "collapsed": true
   },
   "outputs": [],
   "source": [
    "moby_toks = re.findall(r'\\w+', moby)"
   ]
  },
  {
   "cell_type": "code",
   "execution_count": 27,
   "metadata": {},
   "outputs": [
    {
     "data": {
      "text/plain": [
       "3"
      ]
     },
     "execution_count": 27,
     "metadata": {},
     "output_type": "execute_result"
    }
   ],
   "source": [
    "len(moby_toks)"
   ]
  },
  {
   "cell_type": "markdown",
   "metadata": {},
   "source": [
    "#### Type vs. token\n",
    "- *Tokens* are individual instances of linguistic units. \n",
    "- *Types* are unique classes found in the tokens. "
   ]
  },
  {
   "cell_type": "code",
   "execution_count": 28,
   "metadata": {},
   "outputs": [
    {
     "data": {
      "text/plain": [
       "{'Ishmael', 'me', 'Call'}"
      ]
     },
     "execution_count": 28,
     "metadata": {},
     "output_type": "execute_result"
    }
   ],
   "source": [
    "moby_types = set(moby_toks)\n",
    "moby_types"
   ]
  },
  {
   "cell_type": "code",
   "execution_count": 29,
   "metadata": {},
   "outputs": [
    {
     "data": {
      "text/plain": [
       "3"
      ]
     },
     "execution_count": 29,
     "metadata": {},
     "output_type": "execute_result"
    }
   ],
   "source": [
    "len(moby_types)"
   ]
  },
  {
   "cell_type": "code",
   "execution_count": 30,
   "metadata": {},
   "outputs": [
    {
     "data": {
      "text/plain": [
       "[]"
      ]
     },
     "execution_count": 30,
     "metadata": {},
     "output_type": "execute_result"
    }
   ],
   "source": [
    "[w for w in moby_types if len(w)>=10]"
   ]
  },
  {
   "cell_type": "code",
   "execution_count": 31,
   "metadata": {},
   "outputs": [
    {
     "data": {
      "text/plain": [
       "['call', 'me', 'ishmael']"
      ]
     },
     "execution_count": 31,
     "metadata": {},
     "output_type": "execute_result"
    }
   ],
   "source": [
    "# lowercased version\n",
    "moby_ltoks = [t.lower() for t in moby_toks]\n",
    "moby_ltoks"
   ]
  },
  {
   "cell_type": "code",
   "execution_count": 32,
   "metadata": {
    "collapsed": true
   },
   "outputs": [],
   "source": [
    "moby_ltypes = set(moby_ltoks)"
   ]
  },
  {
   "cell_type": "code",
   "execution_count": 33,
   "metadata": {},
   "outputs": [
    {
     "data": {
      "text/plain": [
       "['call', 'ishmael', 'me']"
      ]
     },
     "execution_count": 33,
     "metadata": {},
     "output_type": "execute_result"
    }
   ],
   "source": [
    "# sorted() takes a list/set/... and returns a sorted list\n",
    "sorted(moby_ltypes)"
   ]
  },
  {
   "cell_type": "code",
   "execution_count": 34,
   "metadata": {},
   "outputs": [
    {
     "data": {
      "text/plain": [
       "3"
      ]
     },
     "execution_count": 34,
     "metadata": {},
     "output_type": "execute_result"
    }
   ],
   "source": [
    "len(moby_ltypes)"
   ]
  },
  {
   "cell_type": "markdown",
   "metadata": {},
   "source": [
    "## More tomorrow\n",
    "- NLTK\n",
    "- Opening and processing a text file\n",
    "- How long are George Washington’s sentences on average? \n",
    "- Which long words did he use, and how frequent were they? \n",
    "\n",
    "All answered on [Day 2 (Tuesday)](day2.ipynb)"
   ]
  },
  {
   "cell_type": "markdown",
   "metadata": {},
   "source": [
    "## Bring your own corpus\n",
    "Is there any particular corpus you are looking to work with? Please suggest it for our very last class, when we will take a look at a couple of them together. Ideal candidates are: \n",
    "- Sharable with class (you should either have ownership or the corpus should be publicly available)\n",
    "- Moderate in size (100MB or less)\n",
    "\n",
    "__Please email both Na-Rae and David with your suggestions by TOMORROW NOON__. Please include a web link or attach a zipped archive (if you own the rights) along with a brief description of your end goals. "
   ]
  }
 ],
 "metadata": {
  "kernelspec": {
   "display_name": "Python 3",
   "language": "python",
   "name": "python3"
  },
  "language_info": {
   "codemirror_mode": {
    "name": "ipython",
    "version": 3
   },
   "file_extension": ".py",
   "mimetype": "text/x-python",
   "name": "python",
   "nbconvert_exporter": "python",
   "pygments_lexer": "ipython3",
   "version": "3.5.3"
  }
 },
 "nbformat": 4,
 "nbformat_minor": 2
}
