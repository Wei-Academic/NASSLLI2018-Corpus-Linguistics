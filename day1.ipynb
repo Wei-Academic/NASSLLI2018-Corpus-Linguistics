{
 "cells": [
  {
   "cell_type": "markdown",
   "metadata": {
    "collapsed": true
   },
   "source": [
    "# Day 1: Python basics, text processing\n",
    "\n",
    "Na-Rae Han (`naraehan@pitt.edu`) and David J. Birnbaum (`djbpitt@pitt.edu`) \n",
    "\n",
    "June 25-29, [NASSLLI 2018 at CMU](https://www.cmu.edu/nasslli2018/) \n",
    "\n",
    "This tutorial is found on https://github.com/naraehan/NASSLLI2018-Corpus-Linguistics. \n",
    "- Jump to: [Day 1](day1.ipynb), [Day 2](day2.ipynb), [Day 3](day3.ipynb), [Day 4](day4.ipynb), [Day 5](day5.ipynb)"
   ]
  },
  {
   "cell_type": "markdown",
   "metadata": {},
   "source": [
    "## Getting around in Jupyter Notebook\n",
    "- When you launch Jupyter Notebook, you \"start\" in your personal directory. \n",
    "- Move into \"Desktop\". Create a new folder there and rename it \"corpusling\", and then move into it. You should store all your Notebook files in here. \n",
    "- Create a new Python3 notebook file, give it a name. \n",
    "\n",
    "\n",
    "- Click `+` to create a new cell, ► to run (Also: `Ctrl+ENTER`)\n",
    "- `Alt+ENTER` to run cell, create a new cell below\n",
    "- `Shift+ENTER` to run cell, go to next cell\n",
    "- More on [this page](https://www.cheatography.com/weidadeyue/cheat-sheets/jupyter-notebook/)"
   ]
  },
  {
   "cell_type": "markdown",
   "metadata": {},
   "source": [
    "## The very basics\n",
    "\n",
    "### First code\n",
    "\n",
    "* Printing a string, using `print()`. "
   ]
  },
  {
   "cell_type": "code",
   "execution_count": null,
   "metadata": {},
   "outputs": [],
   "source": [
    "print(\"hello, world!\")"
   ]
  },
  {
   "cell_type": "markdown",
   "metadata": {
    "collapsed": true
   },
   "source": [
    "### Strings\n",
    "\n",
    "* String type objects are enclosed in quotation marks (\" or ').\n",
    "* \\+ is a concatenation operator.\n",
    "* Below, `greet` is a variable name assigned to a string value. \n",
    "* Here we are not explicitly printing out; instead, a string value is *returned*. "
   ]
  },
  {
   "cell_type": "code",
   "execution_count": null,
   "metadata": {
    "scrolled": true
   },
   "outputs": [],
   "source": [
    "greet = \"Hello, world!\"\n",
    "greet = greet + \" I come in peace.\" + \" I'm called merklar.\"\n",
    "greet"
   ]
  },
  {
   "cell_type": "markdown",
   "metadata": {},
   "source": [
    "* String methods such as `.upper()`, `.lower()` transform a string. \n",
    "* Rather than changing the original variable, the commands *return* a *new* string value. "
   ]
  },
  {
   "cell_type": "code",
   "execution_count": null,
   "metadata": {
    "scrolled": true
   },
   "outputs": [],
   "source": [
    "greet2 = greet.upper().lower() \n",
    "greet2"
   ]
  },
  {
   "cell_type": "markdown",
   "metadata": {},
   "source": [
    "* Some string methods return a boolean value (True/False) "
   ]
  },
  {
   "cell_type": "code",
   "execution_count": null,
   "metadata": {},
   "outputs": [],
   "source": [
    "# try .isupper(), .isalnum(), .startswith('he')\n",
    "'hello123'.isalnum()"
   ]
  },
  {
   "cell_type": "markdown",
   "metadata": {},
   "source": [
    "* `len()` returns the length of a string in the # of characters. "
   ]
  },
  {
   "cell_type": "code",
   "execution_count": null,
   "metadata": {},
   "outputs": [],
   "source": [
    "len(greet)"
   ]
  },
  {
   "cell_type": "markdown",
   "metadata": {},
   "source": [
    "* `in` tests substring-hood between two strings. "
   ]
  },
  {
   "cell_type": "code",
   "execution_count": null,
   "metadata": {},
   "outputs": [],
   "source": [
    "'he' not in 'hello' or ''.endswith('')"
   ]
  },
  {
   "cell_type": "markdown",
   "metadata": {},
   "source": [
    "### Numbers\n",
    "\n",
    "* Integers and floats are written without quotes. \n",
    "* You can use algebraic operations such as `+`, `-`, `*` and `/` with numbers. "
   ]
  },
  {
   "cell_type": "code",
   "execution_count": null,
   "metadata": {},
   "outputs": [],
   "source": [
    "num1 = 5678\n",
    "num2 = 3.141592\n",
    "result = num1 / num2\n",
    "print(num1, \"divided by\", num2, \"is\", result)  # can print multiple things! "
   ]
  },
  {
   "cell_type": "markdown",
   "metadata": {},
   "source": [
    "### Lists\n",
    "* Lists are enclosed in `[ ]`, with elements separated with commas. Lists can contain strings, numbers, and more. \n",
    "* As with string, you can use `len()` to get the size of a list. \n",
    "* As with string, you can use `in` to see whether an element is in a list. "
   ]
  },
  {
   "cell_type": "code",
   "execution_count": null,
   "metadata": {},
   "outputs": [],
   "source": [
    "li = ['red', 'blue', 'green', 'black', 'white', 'pink']\n",
    "len(li)"
   ]
  },
  {
   "cell_type": "code",
   "execution_count": null,
   "metadata": {},
   "outputs": [],
   "source": [
    "# Try logical operators not, and, or\n",
    "'mauve' in li and 'teal' in li\n",
    "li.append('mauve')\n",
    "print(li)"
   ]
  },
  {
   "cell_type": "markdown",
   "metadata": {},
   "source": [
    "* A list can be indexed through `li[i]`. Python indexes starts with 0. \n",
    "* A list can be sliced: `li[3:5]` returns a sub-list beginning with index 3 up to and not including index 5. "
   ]
  },
  {
   "cell_type": "code",
   "execution_count": null,
   "metadata": {},
   "outputs": [],
   "source": [
    "# Try [0], [2], [-1], [3:5], [3:], [:5]\n",
    "li[2]"
   ]
  },
  {
   "cell_type": "markdown",
   "metadata": {},
   "source": [
    "### `for` loop\n",
    "* Using a `for` loop, you can loop through a list of items, applying the same set of operations to each element. \n",
    "* The embedded code block is marked with indentation. "
   ]
  },
  {
   "cell_type": "code",
   "execution_count": null,
   "metadata": {},
   "outputs": [],
   "source": [
    "for x in li :\n",
    "    print('\"'+x.capitalize()+'\" is', len(x), \"characters long.\")\n",
    "    print('--')\n",
    "print(\"Done!\")"
   ]
  },
  {
   "cell_type": "markdown",
   "metadata": {},
   "source": [
    "### List comprehension\n",
    "* List comprehension builds a new list from an existing list. \n",
    "* You can filter to include only certain elements, and you can apply transformationa in the process.\n",
    "* Try: `.upper()`, `len()`, `+'ish'`"
   ]
  },
  {
   "cell_type": "code",
   "execution_count": null,
   "metadata": {},
   "outputs": [],
   "source": [
    "# filter\n",
    "[x for x in li if len(x)==4]"
   ]
  },
  {
   "cell_type": "code",
   "execution_count": null,
   "metadata": {},
   "outputs": [],
   "source": [
    "# transform\n",
    "[x.upper() for x in li]"
   ]
  },
  {
   "cell_type": "code",
   "execution_count": null,
   "metadata": {},
   "outputs": [],
   "source": [
    "# filter and transform\n",
    "[x.upper() for x in li if len(x)>=5]"
   ]
  },
  {
   "cell_type": "markdown",
   "metadata": {},
   "source": [
    "### Dictionaries\n",
    "- Dictionaries hold **key:value** mappings. \n",
    "- `len()` on dictionary returns the number of keys. \n",
    "- Looping over a dictionary means looping over its keys. "
   ]
  },
  {
   "cell_type": "code",
   "execution_count": null,
   "metadata": {},
   "outputs": [],
   "source": [
    "di = {'Homer':35, 'Marge':35, 'Bart':10, 'Lisa':8}\n",
    "di['Lisa']"
   ]
  },
  {
   "cell_type": "code",
   "execution_count": null,
   "metadata": {},
   "outputs": [],
   "source": [
    "# 20 years-old or younger. x is bound to keys. \n",
    "[x for x in di if di[x] <= 20]"
   ]
  },
  {
   "cell_type": "code",
   "execution_count": null,
   "metadata": {},
   "outputs": [],
   "source": [
    "len(di)"
   ]
  },
  {
   "cell_type": "markdown",
   "metadata": {},
   "source": [
    "### Processing a piece of text\n",
    "- [Visit this page](http://www.pitt.edu/~naraehan/python3/text-samples.txt) and copy-paste the first passage of Moby Dick.  \n",
    "- `\"\"\"` triple quotes have the special power of straddling across line breaks. \n"
   ]
  },
  {
   "cell_type": "code",
   "execution_count": null,
   "metadata": {
    "collapsed": true
   },
   "outputs": [],
   "source": [
    "moby = \"\"\"Call me Ishmael. Some years ago--never mind how long precisely--having\n",
    "little or no money in my purse, and nothing particular to interest me on\n",
    "shore, I thought I would sail about a little and see the watery part of\n",
    "the world. It is a way I have of driving off the spleen and regulating\n",
    "the circulation. Whenever I find myself growing grim about the mouth;\n",
    "whenever it is a damp, drizzly November in my soul; whenever I find\n",
    "myself involuntarily pausing before coffin warehouses, and bringing up\n",
    "the rear of every funeral I meet; and especially whenever my hypos get\n",
    "such an upper hand of me, that it requires a strong moral principle to\n",
    "prevent me from deliberately stepping into the street, and methodically\n",
    "knocking people's hats off--then, I account it high time to get to sea\n",
    "as soon as I can. This is my substitute for pistol and ball. With a\n",
    "philosophical flourish Cato throws himself upon his sword; I quietly\n",
    "take to the ship. There is nothing surprising in this. If they but knew\n",
    "it, almost all men in their degree, some time or other, cherish very\n",
    "nearly the same feelings towards the ocean with me.\"\"\""
   ]
  },
  {
   "cell_type": "code",
   "execution_count": null,
   "metadata": {},
   "outputs": [],
   "source": [
    "# What is '\\n'? \n",
    "moby"
   ]
  },
  {
   "cell_type": "code",
   "execution_count": null,
   "metadata": {},
   "outputs": [],
   "source": [
    "print(moby)"
   ]
  },
  {
   "cell_type": "code",
   "execution_count": null,
   "metadata": {},
   "outputs": [],
   "source": [
    "len(moby)\n",
    "# But how many _words_?"
   ]
  },
  {
   "cell_type": "code",
   "execution_count": null,
   "metadata": {},
   "outputs": [],
   "source": [
    "# .split() is a \"poor-man's tokenizer\". What problem do you see? \n",
    "%pprint\n",
    "moby.split()"
   ]
  },
  {
   "cell_type": "markdown",
   "metadata": {},
   "source": [
    "### Using regular expressions for tokenization\n",
    "* `re` is Python's regular expression module. Start by importing. \n",
    "* `re.findall` finds all substrings that match a pattern.\n",
    "* For regular expression strings, use `r'...'` (rawstring) prefix. "
   ]
  },
  {
   "cell_type": "code",
   "execution_count": null,
   "metadata": {
    "collapsed": true
   },
   "outputs": [],
   "source": [
    "import re"
   ]
  },
  {
   "cell_type": "code",
   "execution_count": null,
   "metadata": {},
   "outputs": [],
   "source": [
    "sent = \"You haven't seen Star Wars...?\"\n",
    "re.findall(r'\\w+', sent)"
   ]
  },
  {
   "cell_type": "code",
   "execution_count": null,
   "metadata": {},
   "outputs": [],
   "source": [
    "re.findall(r'\\w+', moby)"
   ]
  },
  {
   "cell_type": "code",
   "execution_count": null,
   "metadata": {
    "collapsed": true
   },
   "outputs": [],
   "source": [
    "moby_toks = re.findall(r'\\w+', moby)"
   ]
  },
  {
   "cell_type": "code",
   "execution_count": null,
   "metadata": {},
   "outputs": [],
   "source": [
    "len(moby_toks)"
   ]
  },
  {
   "cell_type": "code",
   "execution_count": null,
   "metadata": {},
   "outputs": [],
   "source": [
    "moby_types = set(moby_toks)\n",
    "moby_types"
   ]
  },
  {
   "cell_type": "code",
   "execution_count": null,
   "metadata": {},
   "outputs": [],
   "source": [
    "len(moby_types)"
   ]
  },
  {
   "cell_type": "code",
   "execution_count": null,
   "metadata": {},
   "outputs": [],
   "source": [
    "[w for w in moby_types if len(w)>=10]"
   ]
  },
  {
   "cell_type": "code",
   "execution_count": null,
   "metadata": {},
   "outputs": [],
   "source": [
    "# lowercased version\n",
    "moby_ltoks = [t.lower() for t in moby_toks]\n",
    "moby_ltoks"
   ]
  },
  {
   "cell_type": "code",
   "execution_count": null,
   "metadata": {
    "collapsed": true
   },
   "outputs": [],
   "source": [
    "moby_ltypes = set(moby_ltoks)"
   ]
  },
  {
   "cell_type": "code",
   "execution_count": null,
   "metadata": {},
   "outputs": [],
   "source": [
    "# sorted() takes a list/set/... and returns a sorted list\n",
    "sorted(moby_ltypes)"
   ]
  },
  {
   "cell_type": "code",
   "execution_count": null,
   "metadata": {},
   "outputs": [],
   "source": [
    "len(moby_ltypes)"
   ]
  },
  {
   "cell_type": "markdown",
   "metadata": {},
   "source": [
    "## More tomorrow\n",
    "- NLTK\n",
    "- Opening and processing a text file\n",
    "- How long are George Washington’s sentences on average? \n",
    "- Which long words did he use, and how frequent were they? \n",
    "\n",
    "All answered on [Day 2 (Tuesday)](day2.ipynb)"
   ]
  },
  {
   "cell_type": "markdown",
   "metadata": {},
   "source": [
    "## Bring your own corpus\n",
    "Is there any particular corpus you are looking to work with? Please suggest it for our very last class, when we will take a look at a couple of them together. Ideal candidates are: \n",
    "- Sharable with class (you should either have ownership or the corpus should be publicly available)\n",
    "- Moderate in size (100MB or less)\n",
    "\n",
    "__Please email both Na-Rae and David with your suggestions by TOMORROW NOON__. Please include a web link or attach a zipped archive (if you own the rights) along with a brief description of your end goals. "
   ]
  }
 ],
 "metadata": {
  "kernelspec": {
   "display_name": "Python 3",
   "language": "python",
   "name": "python3"
  },
  "language_info": {
   "codemirror_mode": {
    "name": "ipython",
    "version": 3
   },
   "file_extension": ".py",
   "mimetype": "text/x-python",
   "name": "python",
   "nbconvert_exporter": "python",
   "pygments_lexer": "ipython3",
   "version": "3.5.3"
  }
 },
 "nbformat": 4,
 "nbformat_minor": 2
}
