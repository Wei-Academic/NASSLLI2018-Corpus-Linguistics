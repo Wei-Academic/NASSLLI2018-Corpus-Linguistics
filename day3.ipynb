{
 "cells": [
  {
   "cell_type": "markdown",
   "metadata": {
    "collapsed": true
   },
   "source": [
    "# Day 3: Corpus processing with NLTK\n",
    "\n",
    "Na-Rae Han (`naraehan@pitt.edu`) and David J. Birnbaum (`djbpitt@pitt.edu`) \n",
    "\n",
    "June 25-29, [NASSLLI 2018 at CMU](https://www.cmu.edu/nasslli2018/) \n",
    "\n",
    "This tutorial is found on https://github.com/naraehan/NASSLLI2018-Corpus-Linguistics. \n",
    "- Jump to: [Day 1](day1.ipynb), [Day 2](day2.ipynb), [Day 3](day3.ipynb), [Day 4](day4.ipynb), [Day 5](day5.ipynb)"
   ]
  },
  {
   "cell_type": "markdown",
   "metadata": {},
   "source": [
    "## Preparation\n",
    "\n",
    "#### Data\n",
    "\n",
    "- Download and unzip the “C-Span Inaugural Address Corpus”, available on NLTK’s corpora page: http://www.nltk.org/nltk_data/\n",
    "- Place the unzipped `inaugural` folder **on your desktop** "
   ]
  },
  {
   "cell_type": "markdown",
   "metadata": {},
   "source": [
    "## Processing a  corpus\n",
    "\n",
    "- NLTK can read in an entire corpus from a directory (the “root” directory).\n",
    "- As it reads in a corpus, it applies word tokenization: `.words()` and sentence tokenization: `.sents()`. "
   ]
  },
  {
   "cell_type": "code",
   "execution_count": 1,
   "metadata": {
    "collapsed": true
   },
   "outputs": [],
   "source": [
    "import nltk \n",
    "from nltk.corpus import PlaintextCorpusReader\n",
    "corpus_root = 'C:/Users/narae/Desktop/inaugural'  # Use your own userid; Mac users should omit C:\n",
    "inaug = PlaintextCorpusReader(corpus_root, '.*txt')  # all files ending in 'txt' "
   ]
  },
  {
   "cell_type": "code",
   "execution_count": 2,
   "metadata": {},
   "outputs": [
    {
     "name": "stdout",
     "output_type": "stream",
     "text": [
      "Pretty printing has been turned OFF\n"
     ]
    },
    {
     "data": {
      "text/plain": [
       "['1789-Washington.txt', '1793-Washington.txt', '1797-Adams.txt', '1801-Jefferson.txt', '1805-Jefferson.txt', '1809-Madison.txt', '1813-Madison.txt', '1817-Monroe.txt', '1821-Monroe.txt', '1825-Adams.txt', '1829-Jackson.txt', '1833-Jackson.txt', '1837-VanBuren.txt', '1841-Harrison.txt', '1845-Polk.txt', '1849-Taylor.txt', '1853-Pierce.txt', '1857-Buchanan.txt', '1861-Lincoln.txt', '1865-Lincoln.txt', '1869-Grant.txt', '1873-Grant.txt', '1877-Hayes.txt', '1881-Garfield.txt', '1885-Cleveland.txt', '1889-Harrison.txt', '1893-Cleveland.txt', '1897-McKinley.txt', '1901-McKinley.txt', '1905-Roosevelt.txt', '1909-Taft.txt', '1913-Wilson.txt', '1917-Wilson.txt', '1921-Harding.txt', '1925-Coolidge.txt', '1929-Hoover.txt', '1933-Roosevelt.txt', '1937-Roosevelt.txt', '1941-Roosevelt.txt', '1945-Roosevelt.txt', '1949-Truman.txt', '1953-Eisenhower.txt', '1957-Eisenhower.txt', '1961-Kennedy.txt', '1965-Johnson.txt', '1969-Nixon.txt', '1973-Nixon.txt', '1977-Carter.txt', '1981-Reagan.txt', '1985-Reagan.txt', '1989-Bush.txt', '1993-Clinton.txt', '1997-Clinton.txt', '2001-Bush.txt', '2005-Bush.txt', '2009-Obama.txt']"
      ]
     },
     "execution_count": 2,
     "metadata": {},
     "output_type": "execute_result"
    }
   ],
   "source": [
    "%pprint  # turn off pretty printing, which prints too many lines\n",
    "# .txt file names as file IDs\n",
    "inaug.fileids()"
   ]
  },
  {
   "cell_type": "code",
   "execution_count": 3,
   "metadata": {},
   "outputs": [
    {
     "data": {
      "text/plain": [
       "['Fellow', '-', 'Citizens', 'of', 'the', 'Senate', 'and', 'of', 'the', 'House', 'of', 'Representatives', ':', 'Among', 'the', 'vicissitudes', 'incident', 'to', 'life', 'no', 'event', 'could', 'have', 'filled', 'me', 'with', 'greater', 'anxieties', 'than', 'that', 'of', 'which', 'the', 'notification', 'was', 'transmitted', 'by', 'your', 'order', ',', 'and', 'received', 'on', 'the', '14th', 'day', 'of', 'the', 'present', 'month']"
      ]
     },
     "execution_count": 3,
     "metadata": {},
     "output_type": "execute_result"
    }
   ],
   "source": [
    "# NLTK automatically tokenizes the corpus. First 50 words: \n",
    "inaug.words()[:50]"
   ]
  },
  {
   "cell_type": "code",
   "execution_count": 4,
   "metadata": {},
   "outputs": [
    {
     "data": {
      "text/plain": [
       "['My', 'fellow', 'citizens', ':', 'I', 'stand', 'here', 'today', 'humbled', 'by', 'the', 'task', 'before', 'us', ',', 'grateful', 'for', 'the', 'trust', 'you', 'have', 'bestowed', ',', 'mindful', 'of', 'the', 'sacrifices', 'borne', 'by', 'our', 'ancestors', '.', 'I', 'thank', 'President', 'Bush', 'for', 'his', 'service', 'to', 'our', 'nation', ',', 'as', 'well', 'as', 'the', 'generosity', 'and', 'cooperation']"
      ]
     },
     "execution_count": 4,
     "metadata": {},
     "output_type": "execute_result"
    }
   ],
   "source": [
    "# You can also specify individual file ID. First 50 words from Obama 2009:\n",
    "inaug.words('2009-Obama.txt')[:50]"
   ]
  },
  {
   "cell_type": "code",
   "execution_count": 5,
   "metadata": {},
   "outputs": [
    {
     "name": "stdout",
     "output_type": "stream",
     "text": [
      "['My', 'fellow', 'citizens', ':']\n",
      "['I', 'stand', 'here', 'today', 'humbled', 'by', 'the', 'task', 'before', 'us', ',', 'grateful', 'for', 'the', 'trust', 'you', 'have', 'bestowed', ',', 'mindful', 'of', 'the', 'sacrifices', 'borne', 'by', 'our', 'ancestors', '.']\n"
     ]
    }
   ],
   "source": [
    "# NLTK automatically segments sentences too, which are accessed through .sents()\n",
    "print(inaug.sents('2009-Obama.txt')[0])   # first sentence\n",
    "print(inaug.sents('2009-Obama.txt')[1])   # 2nd sentence"
   ]
  },
  {
   "cell_type": "code",
   "execution_count": 6,
   "metadata": {},
   "outputs": [
    {
     "name": "stdout",
     "output_type": "stream",
     "text": [
      "Washington: 1538 24\n",
      "Obama: 2726 112\n"
     ]
    }
   ],
   "source": [
    "# How long are these speeches in terms of word and sentence count?\n",
    "print('Washington:', len(inaug.words('1789-Washington.txt')), len(inaug.sents('1789-Washington.txt')))\n",
    "print('Obama:', len(inaug.words('2009-Obama.txt')), len(inaug.sents('2009-Obama.txt')))"
   ]
  },
  {
   "cell_type": "code",
   "execution_count": 7,
   "metadata": {},
   "outputs": [
    {
     "name": "stdout",
     "output_type": "stream",
     "text": [
      "1538\t24\t64.08333333333333\t1789-Washington.txt\n",
      "147\t4\t36.75\t1793-Washington.txt\n",
      "2585\t37\t69.86486486486487\t1797-Adams.txt\n",
      "1935\t42\t46.07142857142857\t1801-Jefferson.txt\n",
      "2384\t45\t52.977777777777774\t1805-Jefferson.txt\n",
      "1265\t21\t60.23809523809524\t1809-Madison.txt\n",
      "1304\t33\t39.515151515151516\t1813-Madison.txt\n",
      "3693\t122\t30.270491803278688\t1817-Monroe.txt\n",
      "4909\t129\t38.054263565891475\t1821-Monroe.txt\n",
      "3150\t74\t42.567567567567565\t1825-Adams.txt\n",
      "1208\t25\t48.32\t1829-Jackson.txt\n",
      "1267\t30\t42.233333333333334\t1833-Jackson.txt\n",
      "4171\t95\t43.90526315789474\t1837-VanBuren.txt\n",
      "9165\t210\t43.642857142857146\t1841-Harrison.txt\n",
      "5196\t153\t33.96078431372549\t1845-Polk.txt\n",
      "1182\t22\t53.72727272727273\t1849-Taylor.txt\n",
      "3657\t104\t35.16346153846154\t1853-Pierce.txt\n",
      "3098\t89\t34.80898876404494\t1857-Buchanan.txt\n",
      "4005\t138\t29.02173913043478\t1861-Lincoln.txt\n",
      "785\t27\t29.074074074074073\t1865-Lincoln.txt\n",
      "1239\t41\t30.21951219512195\t1869-Grant.txt\n",
      "1478\t44\t33.59090909090909\t1873-Grant.txt\n",
      "2724\t59\t46.16949152542373\t1877-Hayes.txt\n",
      "3239\t112\t28.919642857142858\t1881-Garfield.txt\n",
      "1828\t44\t41.54545454545455\t1885-Cleveland.txt\n",
      "4750\t157\t30.254777070063696\t1889-Harrison.txt\n",
      "2153\t58\t37.12068965517241\t1893-Cleveland.txt\n",
      "4371\t130\t33.62307692307692\t1897-McKinley.txt\n",
      "2450\t100\t24.5\t1901-McKinley.txt\n",
      "1091\t33\t33.06060606060606\t1905-Roosevelt.txt\n",
      "5846\t159\t36.76729559748428\t1909-Taft.txt\n",
      "1905\t68\t28.014705882352942\t1913-Wilson.txt\n",
      "1656\t60\t27.6\t1917-Wilson.txt\n",
      "3756\t149\t25.20805369127517\t1921-Harding.txt\n",
      "4442\t197\t22.548223350253807\t1925-Coolidge.txt\n",
      "3890\t158\t24.620253164556964\t1929-Hoover.txt\n",
      "2063\t85\t24.270588235294117\t1933-Roosevelt.txt\n",
      "2019\t96\t21.03125\t1937-Roosevelt.txt\n",
      "1536\t68\t22.58823529411765\t1941-Roosevelt.txt\n",
      "637\t26\t24.5\t1945-Roosevelt.txt\n",
      "2528\t116\t21.79310344827586\t1949-Truman.txt\n",
      "2775\t123\t22.5609756097561\t1953-Eisenhower.txt\n",
      "1917\t92\t20.83695652173913\t1957-Eisenhower.txt\n",
      "1546\t52\t29.73076923076923\t1961-Kennedy.txt\n",
      "1715\t94\t18.24468085106383\t1965-Johnson.txt\n",
      "2425\t106\t22.87735849056604\t1969-Nixon.txt\n",
      "2028\t69\t29.391304347826086\t1973-Nixon.txt\n",
      "1380\t53\t26.037735849056602\t1977-Carter.txt\n",
      "2801\t127\t22.055118110236222\t1981-Reagan.txt\n",
      "2946\t126\t23.38095238095238\t1985-Reagan.txt\n",
      "2713\t145\t18.71034482758621\t1989-Bush.txt\n",
      "1855\t81\t22.901234567901234\t1993-Clinton.txt\n",
      "2462\t112\t21.982142857142858\t1997-Clinton.txt\n",
      "1825\t97\t18.814432989690722\t2001-Bush.txt\n",
      "2334\t99\t23.575757575757574\t2005-Bush.txt\n",
      "2726\t112\t24.339285714285715\t2009-Obama.txt\n"
     ]
    }
   ],
   "source": [
    "# for-loop through file IDs and print out various stats. \n",
    "# While looping, populate fid_avsent which holds avg sent lengths.\n",
    "\n",
    "fid_avsent = []    # initialize an empty list\n",
    "\n",
    "for f in inaug.fileids():\n",
    "    wcount = len(inaug.words(f))\n",
    "    scount = len(inaug.sents(f))\n",
    "    print(wcount, scount, wcount/scount, f, sep='\\t')  # separate by tab for readability\n",
    "    fid_avsent.append( (wcount/scount, f) )      # append a pair (x, y) to list"
   ]
  },
  {
   "cell_type": "markdown",
   "metadata": {},
   "source": [
    "### Trouble shooting \n",
    "\n",
    "- Unfortunately, 2005 Bush file produces a **Unicode encoding error**. \n",
    "- Let's make a new text file from [http://www.presidency.ucsb.edu/inaugurals.php](http://www.presidency.ucsb.edu/inaugurals.php)\n",
    "- The text files are locked; We will need to save and halt this notebook first. \n",
    "\n",
    "**Mac**:\n",
    "1. Launch TextEdit. It is Mac's default text editor.  \n",
    "1. Visit the web page and copy the text: highlight and `Command+C`. \n",
    "1. Come back to the TextEdit window, paste `Command+V`. \n",
    "1. **Convert to plain text**: `Shift+Command+T`\n",
    "1. Save. Choose the \"inaugural\" directory and give the appropriate file name. Make sure to choose \"**Unicode (UTF-8)**\" as the Encoding. Overwrite the existing file. \n",
    "\n",
    "**Windows**: \n",
    "1. First, delete the offending file. \n",
    "1. Then, right-click empty space in the folder, create a new text file with the same name. \n",
    "1. Double-clicking it will open it in your default text editor (Notepad)\n",
    "1. Visit the web page and copy the text: highlight and `Control+C`. \n",
    "1. Come back to Notepad, paste in (`Control+V`). \n",
    "1. Save: make sure to choose **UTF-8** encoding and **not ANSI**.  "
   ]
  },
  {
   "cell_type": "code",
   "execution_count": 8,
   "metadata": {},
   "outputs": [
    {
     "name": "stdout",
     "output_type": "stream",
     "text": [
      "Pretty printing has been turned ON\n"
     ]
    },
    {
     "data": {
      "text/plain": [
       "[(18.24468085106383, '1965-Johnson.txt'),\n",
       " (18.71034482758621, '1989-Bush.txt'),\n",
       " (18.814432989690722, '2001-Bush.txt'),\n",
       " (20.83695652173913, '1957-Eisenhower.txt'),\n",
       " (21.03125, '1937-Roosevelt.txt'),\n",
       " (21.79310344827586, '1949-Truman.txt'),\n",
       " (21.982142857142858, '1997-Clinton.txt'),\n",
       " (22.055118110236222, '1981-Reagan.txt'),\n",
       " (22.548223350253807, '1925-Coolidge.txt'),\n",
       " (22.5609756097561, '1953-Eisenhower.txt'),\n",
       " (22.58823529411765, '1941-Roosevelt.txt'),\n",
       " (22.87735849056604, '1969-Nixon.txt'),\n",
       " (22.901234567901234, '1993-Clinton.txt'),\n",
       " (23.38095238095238, '1985-Reagan.txt'),\n",
       " (23.575757575757574, '2005-Bush.txt'),\n",
       " (24.270588235294117, '1933-Roosevelt.txt'),\n",
       " (24.339285714285715, '2009-Obama.txt'),\n",
       " (24.5, '1901-McKinley.txt'),\n",
       " (24.5, '1945-Roosevelt.txt'),\n",
       " (24.620253164556964, '1929-Hoover.txt'),\n",
       " (25.20805369127517, '1921-Harding.txt'),\n",
       " (26.037735849056602, '1977-Carter.txt'),\n",
       " (27.6, '1917-Wilson.txt'),\n",
       " (28.014705882352942, '1913-Wilson.txt'),\n",
       " (28.919642857142858, '1881-Garfield.txt'),\n",
       " (29.02173913043478, '1861-Lincoln.txt'),\n",
       " (29.074074074074073, '1865-Lincoln.txt'),\n",
       " (29.391304347826086, '1973-Nixon.txt'),\n",
       " (29.73076923076923, '1961-Kennedy.txt'),\n",
       " (30.21951219512195, '1869-Grant.txt'),\n",
       " (30.254777070063696, '1889-Harrison.txt'),\n",
       " (30.270491803278688, '1817-Monroe.txt'),\n",
       " (33.06060606060606, '1905-Roosevelt.txt'),\n",
       " (33.59090909090909, '1873-Grant.txt'),\n",
       " (33.62307692307692, '1897-McKinley.txt'),\n",
       " (33.96078431372549, '1845-Polk.txt'),\n",
       " (34.80898876404494, '1857-Buchanan.txt'),\n",
       " (35.16346153846154, '1853-Pierce.txt'),\n",
       " (36.75, '1793-Washington.txt'),\n",
       " (36.76729559748428, '1909-Taft.txt'),\n",
       " (37.12068965517241, '1893-Cleveland.txt'),\n",
       " (38.054263565891475, '1821-Monroe.txt'),\n",
       " (39.515151515151516, '1813-Madison.txt'),\n",
       " (41.54545454545455, '1885-Cleveland.txt'),\n",
       " (42.233333333333334, '1833-Jackson.txt'),\n",
       " (42.567567567567565, '1825-Adams.txt'),\n",
       " (43.642857142857146, '1841-Harrison.txt'),\n",
       " (43.90526315789474, '1837-VanBuren.txt'),\n",
       " (46.07142857142857, '1801-Jefferson.txt'),\n",
       " (46.16949152542373, '1877-Hayes.txt'),\n",
       " (48.32, '1829-Jackson.txt'),\n",
       " (52.977777777777774, '1805-Jefferson.txt'),\n",
       " (53.72727272727273, '1849-Taylor.txt'),\n",
       " (60.23809523809524, '1809-Madison.txt'),\n",
       " (64.08333333333333, '1789-Washington.txt'),\n",
       " (69.86486486486487, '1797-Adams.txt')]"
      ]
     },
     "execution_count": 8,
     "metadata": {},
     "output_type": "execute_result"
    }
   ],
   "source": [
    "# Turn pretty print back on \n",
    "%pprint\n",
    "# sorted() returns an alphabetically sorted list\n",
    "sorted(fid_avsent)"
   ]
  },
  {
   "cell_type": "code",
   "execution_count": 9,
   "metadata": {},
   "outputs": [
    {
     "data": {
      "text/plain": [
       "[(18.24468085106383, '1965-Johnson.txt'),\n",
       " (18.71034482758621, '1989-Bush.txt'),\n",
       " (18.814432989690722, '2001-Bush.txt'),\n",
       " (20.83695652173913, '1957-Eisenhower.txt'),\n",
       " (21.03125, '1937-Roosevelt.txt'),\n",
       " (21.79310344827586, '1949-Truman.txt'),\n",
       " (21.982142857142858, '1997-Clinton.txt'),\n",
       " (22.055118110236222, '1981-Reagan.txt'),\n",
       " (22.548223350253807, '1925-Coolidge.txt'),\n",
       " (22.5609756097561, '1953-Eisenhower.txt'),\n",
       " (22.58823529411765, '1941-Roosevelt.txt'),\n",
       " (22.87735849056604, '1969-Nixon.txt'),\n",
       " (22.901234567901234, '1993-Clinton.txt'),\n",
       " (23.38095238095238, '1985-Reagan.txt'),\n",
       " (23.575757575757574, '2005-Bush.txt'),\n",
       " (24.270588235294117, '1933-Roosevelt.txt'),\n",
       " (24.339285714285715, '2009-Obama.txt'),\n",
       " (24.5, '1901-McKinley.txt'),\n",
       " (24.5, '1945-Roosevelt.txt'),\n",
       " (24.620253164556964, '1929-Hoover.txt'),\n",
       " (25.20805369127517, '1921-Harding.txt'),\n",
       " (26.037735849056602, '1977-Carter.txt'),\n",
       " (27.6, '1917-Wilson.txt'),\n",
       " (28.014705882352942, '1913-Wilson.txt'),\n",
       " (28.919642857142858, '1881-Garfield.txt'),\n",
       " (29.02173913043478, '1861-Lincoln.txt'),\n",
       " (29.074074074074073, '1865-Lincoln.txt'),\n",
       " (29.391304347826086, '1973-Nixon.txt'),\n",
       " (29.73076923076923, '1961-Kennedy.txt'),\n",
       " (30.21951219512195, '1869-Grant.txt'),\n",
       " (30.254777070063696, '1889-Harrison.txt'),\n",
       " (30.270491803278688, '1817-Monroe.txt'),\n",
       " (33.06060606060606, '1905-Roosevelt.txt'),\n",
       " (33.59090909090909, '1873-Grant.txt'),\n",
       " (33.62307692307692, '1897-McKinley.txt'),\n",
       " (33.96078431372549, '1845-Polk.txt'),\n",
       " (34.80898876404494, '1857-Buchanan.txt'),\n",
       " (35.16346153846154, '1853-Pierce.txt'),\n",
       " (36.75, '1793-Washington.txt'),\n",
       " (36.76729559748428, '1909-Taft.txt'),\n",
       " (37.12068965517241, '1893-Cleveland.txt'),\n",
       " (38.054263565891475, '1821-Monroe.txt'),\n",
       " (39.515151515151516, '1813-Madison.txt'),\n",
       " (41.54545454545455, '1885-Cleveland.txt'),\n",
       " (42.233333333333334, '1833-Jackson.txt'),\n",
       " (42.567567567567565, '1825-Adams.txt'),\n",
       " (43.642857142857146, '1841-Harrison.txt'),\n",
       " (43.90526315789474, '1837-VanBuren.txt'),\n",
       " (46.07142857142857, '1801-Jefferson.txt'),\n",
       " (46.16949152542373, '1877-Hayes.txt'),\n",
       " (48.32, '1829-Jackson.txt'),\n",
       " (52.977777777777774, '1805-Jefferson.txt'),\n",
       " (53.72727272727273, '1849-Taylor.txt'),\n",
       " (60.23809523809524, '1809-Madison.txt'),\n",
       " (64.08333333333333, '1789-Washington.txt'),\n",
       " (69.86486486486487, '1797-Adams.txt')]"
      ]
     },
     "execution_count": 9,
     "metadata": {},
     "output_type": "execute_result"
    }
   ],
   "source": [
    "# Same thing, with list comprehension! \n",
    "fid_avsent2 = [(len(inaug.words(f))/len(inaug.sents(f)), f) for f in inaug.fileids()]\n",
    "sorted(fid_avsent2)"
   ]
  },
  {
   "cell_type": "code",
   "execution_count": 10,
   "metadata": {},
   "outputs": [
    {
     "data": {
      "text/plain": [
       "145693"
      ]
     },
     "execution_count": 10,
     "metadata": {},
     "output_type": "execute_result"
    }
   ],
   "source": [
    "# Corpus size in number of words\n",
    "len(inaug.words())"
   ]
  },
  {
   "cell_type": "code",
   "execution_count": 11,
   "metadata": {},
   "outputs": [
    {
     "data": {
      "text/plain": [
       "[('the', 9282),\n",
       " ('of', 6970),\n",
       " (',', 6822),\n",
       " ('and', 4995),\n",
       " ('.', 4677),\n",
       " ('to', 4311),\n",
       " ('in', 2528),\n",
       " ('a', 2135),\n",
       " ('our', 1905),\n",
       " ('that', 1688),\n",
       " ('be', 1460),\n",
       " ('is', 1403),\n",
       " ('we', 1141),\n",
       " ('for', 1075),\n",
       " ('by', 1036),\n",
       " ('it', 1010),\n",
       " ('which', 1002),\n",
       " ('have', 994),\n",
       " ('not', 918),\n",
       " ('as', 888),\n",
       " ('with', 886),\n",
       " ('will', 846),\n",
       " ('I', 830),\n",
       " ('are', 774),\n",
       " ('all', 758),\n",
       " ('their', 719),\n",
       " ('this', 700),\n",
       " ('The', 619),\n",
       " ('has', 611),\n",
       " ('people', 559)]"
      ]
     },
     "execution_count": 11,
     "metadata": {},
     "output_type": "execute_result"
    }
   ],
   "source": [
    "# Building word frequency distribution for the entire corpus\n",
    "inaug_fd = nltk.FreqDist(inaug.words())\n",
    "inaug_fd.most_common(30)"
   ]
  },
  {
   "cell_type": "markdown",
   "metadata": {},
   "source": [
    "### Your turn\n",
    "\n",
    "- Explore the corpus! \n",
    "- Are the following words getting more or less frequent: 'we', 'the'?\n",
    "- Are _words_ getting longer or shorter? Hint: use `sum([1, 2, 3, 4])`"
   ]
  },
  {
   "cell_type": "markdown",
   "metadata": {},
   "source": [
    "## More tomorrow\n",
    "\n",
    "- NLTK's other corpus tools: Text, concordancer, ngrams\n",
    "\n",
    "We will learn on [Day 4 (Thursday)](day4.ipynb)"
   ]
  }
 ],
 "metadata": {
  "kernelspec": {
   "display_name": "Python 3",
   "language": "python",
   "name": "python3"
  },
  "language_info": {
   "codemirror_mode": {
    "name": "ipython",
    "version": 3
   },
   "file_extension": ".py",
   "mimetype": "text/x-python",
   "name": "python",
   "nbconvert_exporter": "python",
   "pygments_lexer": "ipython3",
   "version": "3.5.3"
  }
 },
 "nbformat": 4,
 "nbformat_minor": 2
}
